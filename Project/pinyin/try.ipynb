{
 "cells": [
  {
   "cell_type": "code",
   "execution_count": 1,
   "metadata": {},
   "outputs": [],
   "source": [
    "def viterbi_decode_v3(nodes, trans):\n",
    "    \"\"\"\n",
    "    Viterbi算法求最优路径\n",
    "    其中 nodes.shape=[seq_len, num_labels],\n",
    "        trans.shape=[num_labels, num_labels].\n",
    "    \"\"\"\n",
    "    seq_len, num_labels = len(nodes), len(trans)\n",
    "    labels = np.arange(num_labels).reshape((1, -1))\n",
    "    scores = nodes[0].reshape((-1, 1))\n",
    "    paths = labels\n",
    "    for t in range(1, seq_len):\n",
    "        observe = nodes[t].reshape((1, -1))\n",
    "        M = scores + trans + observe\n",
    "        scores = np.max(M, axis=0).reshape((-1, 1))\n",
    "        idxs = np.argmax(M, axis=0)\n",
    "        paths = np.concatenate([paths[:, idxs], labels], 0)\n",
    "    best_path = paths[:, scores.argmax()]\n",
    "    return best_path"
   ]
  },
  {
   "cell_type": "code",
   "execution_count": null,
   "metadata": {},
   "outputs": [],
   "source": [
    "best_path()"
   ]
  }
 ],
 "metadata": {
  "interpreter": {
   "hash": "c65d005f803e204758a0832aa4706f4cea84163cd45d2efe412da3167c3b3a79"
  },
  "kernelspec": {
   "display_name": "Python 3.8.12 ('tf2')",
   "language": "python",
   "name": "python3"
  },
  "language_info": {
   "codemirror_mode": {
    "name": "ipython",
    "version": 3
   },
   "file_extension": ".py",
   "mimetype": "text/x-python",
   "name": "python",
   "nbconvert_exporter": "python",
   "pygments_lexer": "ipython3",
   "version": "3.8.12"
  },
  "orig_nbformat": 4
 },
 "nbformat": 4,
 "nbformat_minor": 2
}
